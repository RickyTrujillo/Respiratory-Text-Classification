{
 "cells": [
  {
   "cell_type": "code",
   "execution_count": 1,
   "id": "23468b02",
   "metadata": {},
   "outputs": [],
   "source": [
    "import os\n",
    "import re\n",
    "import nltk\n",
    "#nltk.download('stopwords')\n",
    "import pandas as pd"
   ]
  },
  {
   "cell_type": "code",
   "execution_count": 2,
   "id": "b6b0c007",
   "metadata": {},
   "outputs": [],
   "source": [
    "path=\"/Users/rickytrujillo/Desktop/School Files/CPP/SP24/CIS 4680/Project 1/Data/Clean Transcripts\"\n",
    "os.chdir(path)"
   ]
  },
  {
   "cell_type": "code",
   "execution_count": 3,
   "id": "44d512fc",
   "metadata": {},
   "outputs": [],
   "source": [
    "clinical_stop = open('/Users/rickytrujillo/Desktop/School Files/CPP/SP24/CIS 4680/Project 1/clinical-stopwords.txt','r')\n",
    "clinical_stop = clinical_stop.read()\n",
    "clinical_stop = clinical_stop.split(\"\\n\")\n",
    "del clinical_stop[0]\n",
    "extra_words = [\"uhm\",\"um\", \"yeah\", \"ah\", \"hi\", \"need\", \"uh\",\"'\", \"okay\", \"OK\", \"umm\", \"yes\", \"no\"]\n",
    "clinical_stop.extend(extra_words)"
   ]
  },
  {
   "cell_type": "code",
   "execution_count": 13,
   "id": "993fa1ed",
   "metadata": {},
   "outputs": [],
   "source": [
    "def read_file(data_path):\n",
    "    with open(file_path, encoding=\"utf8\", errors='ignore') as f: \n",
    "        text = f.read()\n",
    "        return(text)\n",
    "    \n",
    "stop_words = nltk.corpus.stopwords.words(\"english\")\n",
    "stop_words.extend(clinical_stop)\n",
    "wpt = nltk.WordPunctTokenizer()\n",
    "def clean_text(text):\n",
    "    # Remove the new lines\n",
    "    text = re.sub(r'[.?\\n]+','', text)\n",
    "    # Remove all \"P:\" and \"D:\" as identification is not needed\n",
    "    text = re.sub(r'D:.?',' ', text)\n",
    "    text = re.sub(r'P:.?',' ', text)\n",
    "    text = re.sub(r'[\\?!,]',' ', text)\n",
    "    text = re.sub(r'[\\s]+',' ', text)\n",
    "    text = text.lower()\n",
    "    tokens = wpt.tokenize(text)\n",
    "    filtered_tokens = [token for token in tokens if token not in stop_words]\n",
    "    text = \" \".join(filtered_tokens)\n",
    "    return(text)"
   ]
  },
  {
   "cell_type": "code",
   "execution_count": 14,
   "id": "2691c8ca",
   "metadata": {},
   "outputs": [],
   "source": [
    "DP_convo = []\n",
    "for file in os.listdir(): \n",
    "    if (file.endswith(\".txt\") & file.startswith(\"RES\")) : \n",
    "        file_path = f\"{path}/{file}\"\n",
    "        conversation = read_file(file_path)\n",
    "        clean_convo = clean_text(conversation)\n",
    "        DP_convo.append(clean_convo)\n",
    "        \n",
    "df = pd.DataFrame(DP_convo, columns=[\"Conversation\"])"
   ]
  },
  {
   "cell_type": "code",
   "execution_count": 15,
   "id": "74961e5b",
   "metadata": {},
   "outputs": [
    {
     "data": {
      "text/plain": [
       "'came today feeling sore throat last week chills last nights came check sore throat started week ago chills chills feeling last nights feeling tired last whole week difficulties swallowing definitely feel pain ones following sore throat headaches headaches stuffy nose runny nose sinus congestion cough cough back throat look mirror red angry looking difficulties breathing pain chest feel heart racing changes bowel movements urinary urinary concerns belly pain muscle aches alright conditions diagnosed pretty healthy life medications allergies allergies conditions run think mom diabetes currently live live alone live mom house alright recent exposures sick boyfriend kind similar symptoms say weeks ago see doctor doctor kind resolved went away alright drink weekends maybe wine marijuana socially right parties parties alcohol socially right mom drinking see alright questions sorry date immunizations far immunizations feel sore throat pain sides neck feel lumps sides see see guess point maybe examine look inside throat maybe feel neck lumps decide given symptoms viral infection bacterial infection caused bacteria guess strep strep throat mono look rapid strep test based results decide strep antibiotics mono maybe blood test engage physical activity exercise vigorous activity sports next couple weeks months cause problems hit belly cause spleen rupture spleen big mono discuss little bit strep test check temperature see taking help help soothe sore throat lozenges continue drinking water taking lozenges comfort test chat bit sounds thank'"
      ]
     },
     "execution_count": 15,
     "metadata": {},
     "output_type": "execute_result"
    }
   ],
   "source": [
    "df.loc[2,\"Conversation\"]"
   ]
  }
 ],
 "metadata": {
  "kernelspec": {
   "display_name": "Python 3 (ipykernel)",
   "language": "python",
   "name": "python3"
  },
  "language_info": {
   "codemirror_mode": {
    "name": "ipython",
    "version": 3
   },
   "file_extension": ".py",
   "mimetype": "text/x-python",
   "name": "python",
   "nbconvert_exporter": "python",
   "pygments_lexer": "ipython3",
   "version": "3.11.5"
  }
 },
 "nbformat": 4,
 "nbformat_minor": 5
}
